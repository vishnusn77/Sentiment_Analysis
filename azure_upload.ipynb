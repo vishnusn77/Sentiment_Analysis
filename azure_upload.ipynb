{
 "cells": [
  {
   "cell_type": "code",
   "execution_count": null,
   "id": "c284143d-adbe-4165-b406-b7dcc27c2e34",
   "metadata": {},
   "outputs": [
    {
     "name": "stdout",
     "output_type": "stream",
     "text": [
      "File 'cleaned_processed_tweets.csv' uploaded successfully to Azure Blob Storage!\n"
     ]
    }
   ],
   "source": [
    "from azure.storage.blob import BlobServiceClient\n",
    "\n",
    "# Replace this with your connection string\n",
    "connection_string = \"\"\n",
    "\n",
    "# Name of the container you created\n",
    "container_name = \"sentiment-data\"\n",
    "\n",
    "# Name of the file to upload\n",
    "local_file_name = \"cleaned_processed_tweets.csv\"\n",
    "blob_name = \"processed_tweets.csv\"  # Name of the file in Blob Storage\n",
    "\n",
    "# Connect to Blob Storage\n",
    "blob_service_client = BlobServiceClient.from_connection_string(connection_string)\n",
    "\n",
    "# Get a client for the container\n",
    "container_client = blob_service_client.get_container_client(container_name)\n",
    "\n",
    "# Upload the file\n",
    "try:\n",
    "    # Open the local file to upload\n",
    "    with open(local_file_name, \"rb\") as data:\n",
    "        container_client.upload_blob(name=blob_name, data=data, overwrite=True)\n",
    "    print(f\"File '{local_file_name}' uploaded successfully to Azure Blob Storage!\")\n",
    "except Exception as e:\n",
    "    print(f\"An error occurred: {e}\")"
   ]
  },
  {
   "cell_type": "code",
   "execution_count": null,
   "id": "3dcad68d-d5b3-43cd-a468-9d91e494bdfc",
   "metadata": {},
   "outputs": [],
   "source": []
  }
 ],
 "metadata": {
  "kernelspec": {
   "display_name": "Python 3 (ipykernel)",
   "language": "python",
   "name": "python3"
  },
  "language_info": {
   "codemirror_mode": {
    "name": "ipython",
    "version": 3
   },
   "file_extension": ".py",
   "mimetype": "text/x-python",
   "name": "python",
   "nbconvert_exporter": "python",
   "pygments_lexer": "ipython3",
   "version": "3.9.20"
  }
 },
 "nbformat": 4,
 "nbformat_minor": 5
}

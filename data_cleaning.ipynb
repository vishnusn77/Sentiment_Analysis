{
 "cells": [
  {
   "cell_type": "markdown",
   "id": "ea589ff5-0d47-4988-8dad-d53d716068c1",
   "metadata": {},
   "source": [
    "### Data cleaning"
   ]
  },
  {
   "cell_type": "code",
   "execution_count": 1,
   "id": "f2c123cc-07c5-4113-91c4-ef3d71e5d1d9",
   "metadata": {},
   "outputs": [
    {
     "ename": "ImportError",
     "evalue": "DLL load failed while importing _multiarray_umath: The specified module could not be found.",
     "output_type": "error",
     "traceback": [
      "\u001b[1;31m---------------------------------------------------------------------------\u001b[0m",
      "\u001b[1;31mImportError\u001b[0m                               Traceback (most recent call last)",
      "\u001b[1;31mImportError\u001b[0m: DLL load failed while importing _multiarray_umath: The specified module could not be found."
     ]
    },
    {
     "ename": "ImportError",
     "evalue": "DLL load failed while importing _multiarray_umath: The specified module could not be found.",
     "output_type": "error",
     "traceback": [
      "\u001b[1;31m---------------------------------------------------------------------------\u001b[0m",
      "\u001b[1;31mImportError\u001b[0m                               Traceback (most recent call last)",
      "\u001b[1;31mImportError\u001b[0m: DLL load failed while importing _multiarray_umath: The specified module could not be found."
     ]
    },
    {
     "name": "stdout",
     "output_type": "stream",
     "text": [
      "Cleaned file saved to cleaned_processed_tweets.csv\n"
     ]
    }
   ],
   "source": [
    "import pandas as pd\n",
    "\n",
    "# File path to the original CSV\n",
    "file_path = 'processed_tweets.csv'\n",
    "\n",
    "# Load the CSV and handle problematic rows\n",
    "def validate_row(row, expected_columns=7):\n",
    "    if len(row.split(',')) != expected_columns:  # Check column count\n",
    "        return False\n",
    "    return True\n",
    "\n",
    "# Read the file and filter rows\n",
    "with open(file_path, 'r', encoding='utf-8') as file:\n",
    "    lines = file.readlines()\n",
    "\n",
    "cleaned_lines = [line for line in lines if validate_row(line)]\n",
    "\n",
    "# Write cleaned data back to a new file\n",
    "cleaned_file_path = 'cleaned_processed_tweets.csv'\n",
    "with open(cleaned_file_path, 'w', encoding='utf-8') as file:\n",
    "    file.writelines(cleaned_lines)\n",
    "\n",
    "print(f\"Cleaned file saved to {cleaned_file_path}\")"
   ]
  },
  {
   "cell_type": "code",
   "execution_count": null,
   "id": "6a33adc7-cc81-4353-85eb-7b48f99301c7",
   "metadata": {},
   "outputs": [],
   "source": []
  }
 ],
 "metadata": {
  "kernelspec": {
   "display_name": "Python 3 (ipykernel)",
   "language": "python",
   "name": "python3"
  },
  "language_info": {
   "codemirror_mode": {
    "name": "ipython",
    "version": 3
   },
   "file_extension": ".py",
   "mimetype": "text/x-python",
   "name": "python",
   "nbconvert_exporter": "python",
   "pygments_lexer": "ipython3",
   "version": "3.9.20"
  }
 },
 "nbformat": 4,
 "nbformat_minor": 5
}

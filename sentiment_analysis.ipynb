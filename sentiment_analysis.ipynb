{
 "cells": [
  {
   "cell_type": "markdown",
   "id": "3f84e72a-acee-42e5-bd8a-3382296214f6",
   "metadata": {},
   "source": [
    "### Import Required Libraries"
   ]
  },
  {
   "cell_type": "code",
   "execution_count": 2,
   "id": "c3845340-c7d8-4721-9476-54fcb7255d15",
   "metadata": {},
   "outputs": [],
   "source": [
    "import pandas as pd\n",
    "from textblob import TextBlob\n",
    "import matplotlib.pyplot as plt\n",
    "import seaborn as sns\n",
    "from azure.storage.blob import BlobServiceClient"
   ]
  },
  {
   "cell_type": "markdown",
   "id": "f6fec1d4-20e3-4368-a39b-808ad575226a",
   "metadata": {},
   "source": [
    "### Data Acquisition"
   ]
  },
  {
   "cell_type": "code",
   "execution_count": 6,
   "id": "01c0b11d-1c50-458e-90b2-fb0155be461c",
   "metadata": {},
   "outputs": [
    {
     "name": "stdout",
     "output_type": "stream",
     "text": [
      "     id        topic sentiment  \\\n",
      "0  2401  Borderlands  Positive   \n",
      "1  2401  Borderlands  Positive   \n",
      "2  2401  Borderlands  Positive   \n",
      "3  2401  Borderlands  Positive   \n",
      "4  2401  Borderlands  Positive   \n",
      "\n",
      "                                               tweet  \n",
      "0  im getting on borderlands and i will murder yo...  \n",
      "1  I am coming to the borders and I will kill you...  \n",
      "2  im getting on borderlands and i will kill you ...  \n",
      "3  im coming on borderlands and i will murder you...  \n",
      "4  im getting on borderlands 2 and i will murder ...  \n"
     ]
    }
   ],
   "source": [
    "# Load the dataset\n",
    "data = pd.read_csv('twitter_training.csv') \n",
    "print(data.head())"
   ]
  },
  {
   "cell_type": "markdown",
   "id": "642c6154-8ab4-49b2-9bf0-ec415055377d",
   "metadata": {},
   "source": [
    "### Data Preprocessing"
   ]
  },
  {
   "cell_type": "code",
   "execution_count": 10,
   "id": "38ec054c-d3da-4c84-a6b8-060b70bcd529",
   "metadata": {},
   "outputs": [
    {
     "name": "stdout",
     "output_type": "stream",
     "text": [
      "                                               tweet  \\\n",
      "0  im getting on borderlands and i will murder yo...   \n",
      "1  I am coming to the borders and I will kill you...   \n",
      "2  im getting on borderlands and i will kill you ...   \n",
      "3  im coming on borderlands and i will murder you...   \n",
      "4  im getting on borderlands 2 and i will murder ...   \n",
      "\n",
      "                                      cleaned_tweets  \n",
      "0  im getting on borderlands and i will murder yo...  \n",
      "1     i am coming to the borders and i will kill you  \n",
      "2      im getting on borderlands and i will kill you  \n",
      "3     im coming on borderlands and i will murder you  \n",
      "4  im getting on borderlands 2 and i will murder ...  \n"
     ]
    }
   ],
   "source": [
    "# Define the text cleaning function\n",
    "def clean_text(text):\n",
    "    if not isinstance(text, str):  # Check if the value is not a string\n",
    "        return \"\"  # Return an empty string for non-string or missing values\n",
    "    # Split the text into words, keep only alphanumeric words, and join them back\n",
    "    return ' '.join(word.lower() for word in text.split() if word.isalnum())\n",
    "\n",
    "# Apply the cleaning function to the 'tweet' column\n",
    "data['cleaned_tweets'] = data['tweet'].apply(clean_text)\n",
    "\n",
    "# Display a few examples of original and cleaned tweets\n",
    "print(data[['tweet', 'cleaned_tweets']].head())"
   ]
  },
  {
   "cell_type": "markdown",
   "id": "317c41aa-f537-44b1-b6dc-6d9c4cdc05f0",
   "metadata": {},
   "source": [
    "### Perform Sentiment Analysis"
   ]
  },
  {
   "cell_type": "code",
   "execution_count": 11,
   "id": "0ed865ef-ef12-4c42-90ae-21b00cb59987",
   "metadata": {},
   "outputs": [
    {
     "name": "stdout",
     "output_type": "stream",
     "text": [
      "                                      cleaned_tweets  sentiment_polarity  \\\n",
      "0  im getting on borderlands and i will murder yo...                 0.0   \n",
      "1     i am coming to the borders and i will kill you                 0.0   \n",
      "2      im getting on borderlands and i will kill you                 0.0   \n",
      "3     im coming on borderlands and i will murder you                 0.0   \n",
      "4  im getting on borderlands 2 and i will murder ...                 0.0   \n",
      "\n",
      "  sentiment_label  \n",
      "0        Negative  \n",
      "1        Negative  \n",
      "2        Negative  \n",
      "3        Negative  \n",
      "4        Negative  \n"
     ]
    }
   ],
   "source": [
    "data['sentiment_polarity'] = data['cleaned_tweets'].apply(lambda x: TextBlob(x).sentiment.polarity)\n",
    "data['sentiment_label'] = data['sentiment_polarity'].apply(lambda x: 'Positive' if x > 0 else 'Negative')\n",
    "print(data[['cleaned_tweets', 'sentiment_polarity', 'sentiment_label']].head())"
   ]
  },
  {
   "cell_type": "markdown",
   "id": "953eab2e-3c51-411b-a0d6-163abb8e59be",
   "metadata": {},
   "source": [
    "### Save Processed Data"
   ]
  },
  {
   "cell_type": "code",
   "execution_count": 12,
   "id": "cd8d8e50-b2ab-4e3a-a20f-6038aeaada37",
   "metadata": {},
   "outputs": [],
   "source": [
    "data.to_csv('processed_tweets.csv', index=False)"
   ]
  }
 ],
 "metadata": {
  "kernelspec": {
   "display_name": "Python 3 (ipykernel)",
   "language": "python",
   "name": "python3"
  },
  "language_info": {
   "codemirror_mode": {
    "name": "ipython",
    "version": 3
   },
   "file_extension": ".py",
   "mimetype": "text/x-python",
   "name": "python",
   "nbconvert_exporter": "python",
   "pygments_lexer": "ipython3",
   "version": "3.9.20"
  }
 },
 "nbformat": 4,
 "nbformat_minor": 5
}
